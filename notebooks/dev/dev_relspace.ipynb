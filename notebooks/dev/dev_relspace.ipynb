{
 "cells": [
  {
   "cell_type": "code",
   "execution_count": 8,
   "metadata": {},
   "outputs": [
    {
     "name": "stderr",
     "output_type": "stream",
     "text": [
      "[07:14:49.668] \u001b[34m\u001b[1mbooting\u001b[0m\n",
      "[07:14:49.680] \u001b[34m\u001b[1mCompleted booting (+0 μs)\n",
      "\u001b[0m\n"
     ]
    }
   ],
   "source": [
    "import sys; sys.path.insert(0,'../..')\n",
    "from intertxt import *"
   ]
  },
  {
   "cell_type": "code",
   "execution_count": 9,
   "metadata": {},
   "outputs": [],
   "source": [
    "t1=Text('_txtlab/DE_1771_La_Roche,Sophievon_GeschichtedesFrauleinsvonSternheim_Novel')\n",
    "t2=Text('_estc/020/T084292')"
   ]
  },
  {
   "cell_type": "code",
   "execution_count": 24,
   "metadata": {},
   "outputs": [],
   "source": [
    "x='_markmark/Morrison,_Toni.Beloved'\n",
    "x='_markmark/Shute,_Nevil.Trustee_from_the_Toolroom'"
   ]
  },
  {
   "cell_type": "code",
   "execution_count": 25,
   "metadata": {},
   "outputs": [],
   "source": [
    "def testfuncs(obj='Test Input',funcs=[]):\n",
    "    funcs.insert(0,lambda x: x)\n",
    "    for f in funcs:\n",
    "        print(f'{f.__name__:<25} {f(obj)[:5]:<10} {f(obj)}')"
   ]
  },
  {
   "cell_type": "code",
   "execution_count": 32,
   "metadata": {},
   "outputs": [],
   "source": [
    "import hashlib\n",
    "from base64 import b64encode\n",
    "\n",
    "def as_bytes(x): return x.encode() if type(x)!=bytes else x\n",
    "def hash_md5(x): return b64encode(hashlib.md5(as_bytes(x)).digest()).decode()\n",
    "def hash_sha256(x): return b64encode(hashlib.sha256(as_bytes(x)).digest()).decode()\n",
    "def hash_sha224(x): return b64encode(hashlib.sha224(as_bytes(x)).digest()).decode()\n",
    "def h6(w): return hash_md5(w)[:6]\n",
    "def h10(w): return hash_sha256(w)[:6]\n",
    "def h1(w): return hashlib.md5(as_bytes(w)).hexdigest()\n",
    "def h4(w): return hash_md5(w)[:7]\n",
    "def hashstr(x): return hashlib.sha224(str(x).encode('utf-8')).hexdigest()\n",
    "\n",
    "## mine:\n",
    "def h5(w): return hash_sha256(w)[:5]\n",
    "def hashed(w): return h5(w)\n",
    "\n",
    "\n",
    "def nhash(x,n=5,hasher=hash_md5,alnum=False):\n",
    "    xhash = hasher(x)\n",
    "    if alnum: xhash=''.join(y for y in xhash if y.isalnum())\n",
    "    return xhash[:n]\n",
    "\n",
    "def safehash(x,n=5): return nhash(x,n=n,hasher=hash_md5,alnum=True)"
   ]
  },
  {
   "cell_type": "code",
   "execution_count": 33,
   "metadata": {},
   "outputs": [
    {
     "name": "stdout",
     "output_type": "stream",
     "text": [
      "<lambda>                  _mark      _markmark/Shute,_Nevil.Trustee_from_the_Toolroom\n",
      "hash_md5                  bIkaT      bIkaTXlj5SU4vaO0UxXY4g==\n",
      "hash_sha256               s/edM      s/edM4gLp1qliJ3fCnSEnSTAIUkKqctlCoM8IxItBSE=\n",
      "hash_sha224               6hAL1      6hAL1YQIzGnX9BVibcQDekMRBgn3bR7k/7OvOg==\n",
      "h6                        bIkaT      bIkaTX\n",
      "h10                       s/edM      s/edM4\n",
      "h1                        6c891      6c891a4d7963e52538bda3b45315d8e2\n",
      "h4                        bIkaT      bIkaTXl\n",
      "hashstr                   ea100      ea100bd58408cc69d7f415626dc4037a43110609f76d1ee4ffb3af3a\n",
      "h5                        s/edM      s/edM\n",
      "hashed                    s/edM      s/edM\n",
      "nhash                     bIkaT      bIkaT\n"
     ]
    }
   ],
   "source": [
    "testfuncs(x, [hash_md5, hash_sha256, hash_sha224,h6,h10,h1,h4,hashstr,h5,hashed,nhash])"
   ]
  },
  {
   "cell_type": "code",
   "execution_count": 23,
   "metadata": {},
   "outputs": [
    {
     "data": {
      "text/plain": [
       "'916.1 million'"
      ]
     },
     "execution_count": 23,
     "metadata": {},
     "output_type": "execute_result"
    }
   ],
   "source": [
    "# humanize.intword((26 + 26 + 10)**5)"
   ]
  },
  {
   "cell_type": "code",
   "execution_count": 107,
   "metadata": {},
   "outputs": [
    {
     "name": "stdout",
     "output_type": "stream",
     "text": [
      "866 ns ± 3.4 ns per loop (mean ± std. dev. of 7 runs, 1,000,000 loops each)\n"
     ]
    }
   ],
   "source": [
    "%%timeit\n",
    "h6(x)"
   ]
  },
  {
   "cell_type": "code",
   "execution_count": 108,
   "metadata": {},
   "outputs": [
    {
     "name": "stdout",
     "output_type": "stream",
     "text": [
      "759 ns ± 2.66 ns per loop (mean ± std. dev. of 7 runs, 1,000,000 loops each)\n"
     ]
    }
   ],
   "source": [
    "%%timeit\n",
    "h10(x)"
   ]
  },
  {
   "cell_type": "code",
   "execution_count": 63,
   "metadata": {},
   "outputs": [
    {
     "data": {
      "text/plain": [
       "b'K8SXDzOlbmQcnMLqVix7jQ=='"
      ]
     },
     "execution_count": 63,
     "metadata": {},
     "output_type": "execute_result"
    }
   ],
   "source": [
    "hash_md5('xwerew')"
   ]
  },
  {
   "cell_type": "code",
   "execution_count": null,
   "metadata": {},
   "outputs": [],
   "source": [
    "hash_md5('xwerew')"
   ]
  },
  {
   "cell_type": "code",
   "execution_count": 45,
   "metadata": {},
   "outputs": [],
   "source": [
    "x=t1.addr"
   ]
  },
  {
   "cell_type": "code",
   "execution_count": 65,
   "metadata": {},
   "outputs": [],
   "source": [
    "# l=[h11,h6,h10,h1,h4,hashstr]"
   ]
  },
  {
   "cell_type": "code",
   "execution_count": null,
   "metadata": {},
   "outputs": [],
   "source": []
  },
  {
   "cell_type": "code",
   "execution_count": null,
   "metadata": {},
   "outputs": [],
   "source": []
  },
  {
   "cell_type": "code",
   "execution_count": 5,
   "metadata": {},
   "outputs": [],
   "source": [
    "rs=Relspace()\n",
    "g=rs.graph"
   ]
  },
  {
   "cell_type": "code",
   "execution_count": 6,
   "metadata": {},
   "outputs": [
    {
     "name": "stderr",
     "output_type": "stream",
     "text": [
      "[06:04:19.119] \u001b[34m\u001b[1mlinking texts\u001b[0m\n",
      "[06:04:19.128] \u001b[34m\u001b[1mCompleted linking texts (+0 μs)\n",
      "\u001b[0m\n"
     ]
    },
    {
     "data": {
      "text/plain": [
       "{'_key': 'ccc-5459__fe6-4250',\n",
       " '_from': 'text/ccc-5459',\n",
       " '_to': 'text/fe6-4250',\n",
       " 'rel': 'testing',\n",
       " '_id': 'is_also/ccc-5459__fe6-4250',\n",
       " '_rev': '_eKBy_KG---',\n",
       " '_old_rev': '_eKBwhBS---'}"
      ]
     },
     "execution_count": 6,
     "metadata": {},
     "output_type": "execute_result"
    }
   ],
   "source": [
    "rs.link(t1, t2, rel='testing')"
   ]
  },
  {
   "cell_type": "code",
   "execution_count": 17,
   "metadata": {},
   "outputs": [
    {
     "data": {
      "text/plain": [
       "{'edges': [{'_key': '864988',\n",
       "   '_id': 'is_also/864988',\n",
       "   '_from': 'text/ccc-5459',\n",
       "   '_to': 'text/fe6-4250',\n",
       "   '_rev': '_eKBeBDC---',\n",
       "   'rel': 'testing'},\n",
       "  {'_key': 'ccc-5459--(is_also)--fe6-4250',\n",
       "   '_id': 'is_also/ccc-5459--(is_also)--fe6-4250',\n",
       "   '_from': 'text/ccc-5459',\n",
       "   '_to': 'text/fe6-4250',\n",
       "   '_rev': '_eKBhQZS---',\n",
       "   'rel': 'testing'},\n",
       "  {'_key': 'ccc-5459--is_also--fe6-4250',\n",
       "   '_id': 'is_also/ccc-5459--is_also--fe6-4250',\n",
       "   '_from': 'text/ccc-5459',\n",
       "   '_to': 'text/fe6-4250',\n",
       "   '_rev': '_eKBiQ1G---',\n",
       "   'rel': 'testing'},\n",
       "  {'_key': '(ccc-5459)--(is_also)--(fe6-4250)',\n",
       "   '_id': 'is_also/(ccc-5459)--(is_also)--(fe6-4250)',\n",
       "   '_from': 'text/ccc-5459',\n",
       "   '_to': 'text/fe6-4250',\n",
       "   '_rev': '_eKBirtS---',\n",
       "   'rel': 'testing'},\n",
       "  {'_key': 'ccc-5459)--(is_also)--(fe6-4250',\n",
       "   '_id': 'is_also/ccc-5459)--(is_also)--(fe6-4250',\n",
       "   '_from': 'text/ccc-5459',\n",
       "   '_to': 'text/fe6-4250',\n",
       "   '_rev': '_eKBj_gS---',\n",
       "   'rel': 'testing'},\n",
       "  {'_key': 'text:ccc-5459)--(is_also)--(text:fe6-4250',\n",
       "   '_id': 'is_also/text:ccc-5459)--(is_also)--(text:fe6-4250',\n",
       "   '_from': 'text/ccc-5459',\n",
       "   '_to': 'text/fe6-4250',\n",
       "   '_rev': '_eKBkXbW---',\n",
       "   'rel': 'testing'},\n",
       "  {'_key': 'text:ccc-5459)----(text:fe6-4250',\n",
       "   '_id': 'is_also/text:ccc-5459)----(text:fe6-4250',\n",
       "   '_from': 'text/ccc-5459',\n",
       "   '_to': 'text/fe6-4250',\n",
       "   '_rev': '_eKBk0N----',\n",
       "   'rel': 'testing'},\n",
       "  {'_key': 'text:ccc-5459__text:fe6-4250',\n",
       "   '_id': 'is_also/text:ccc-5459__text:fe6-4250',\n",
       "   '_from': 'text/ccc-5459',\n",
       "   '_to': 'text/fe6-4250',\n",
       "   '_rev': '_eKBllWK---',\n",
       "   'rel': 'testing'},\n",
       "  {'_key': 'text:ccc-5459--()--text:fe6-4250',\n",
       "   '_id': 'is_also/text:ccc-5459--()--text:fe6-4250',\n",
       "   '_from': 'text/ccc-5459',\n",
       "   '_to': 'text/fe6-4250',\n",
       "   '_rev': '_eKBmEiW---',\n",
       "   'rel': 'testing'},\n",
       "  {'_key': 'text:ccc-5459-+-text:fe6-4250',\n",
       "   '_id': 'is_also/text:ccc-5459-+-text:fe6-4250',\n",
       "   '_from': 'text/ccc-5459',\n",
       "   '_to': 'text/fe6-4250',\n",
       "   '_rev': '_eKBmPoy---',\n",
       "   'rel': 'testing'},\n",
       "  {'_key': 'text:ccc-5459---text:fe6-4250',\n",
       "   '_id': 'is_also/text:ccc-5459---text:fe6-4250',\n",
       "   '_from': 'text/ccc-5459',\n",
       "   '_to': 'text/fe6-4250',\n",
       "   '_rev': '_eKBme7a---',\n",
       "   'rel': 'testing'},\n",
       "  {'_key': '910826',\n",
       "   '_id': 'is_also/910826',\n",
       "   '_from': 'text/ccc-5459',\n",
       "   '_to': 'text/fe6-4250',\n",
       "   '_rev': '_eKBp7a6---',\n",
       "   'rel': 'testing'},\n",
       "  {'_key': '911950',\n",
       "   '_id': 'is_also/911950',\n",
       "   '_from': 'text/ccc-5459',\n",
       "   '_to': 'text/fe6-4250',\n",
       "   '_rev': '_eKBqRB2---',\n",
       "   'rel': 'testing'},\n",
       "  {'_key': '912070',\n",
       "   '_id': 'is_also/912070',\n",
       "   '_from': 'text/ccc-5459',\n",
       "   '_to': 'text/fe6-4250',\n",
       "   '_rev': '_eKBqSni---',\n",
       "   'rel': 'testing'},\n",
       "  {'_key': '912139',\n",
       "   '_id': 'is_also/912139',\n",
       "   '_from': 'text/ccc-5459',\n",
       "   '_to': 'text/fe6-4250',\n",
       "   '_rev': '_eKBqTYW---',\n",
       "   'rel': 'testing'},\n",
       "  {'_key': '97c-11c6',\n",
       "   '_id': 'is_also/97c-11c6',\n",
       "   '_from': 'text/ccc-5459',\n",
       "   '_to': 'text/fe6-4250',\n",
       "   '_rev': '_eKBtAEC---',\n",
       "   'rel': 'testing'},\n",
       "  {'_key': 'ccc-5459---fe6-4250',\n",
       "   '_id': 'is_also/ccc-5459---fe6-4250',\n",
       "   '_from': 'text/ccc-5459',\n",
       "   '_to': 'text/fe6-4250',\n",
       "   '_rev': '_eKBuHa6---',\n",
       "   'rel': 'testing'},\n",
       "  {'_key': 'ccc-5459___fe6-4250',\n",
       "   '_id': 'is_also/ccc-5459___fe6-4250',\n",
       "   '_from': 'text/ccc-5459',\n",
       "   '_to': 'text/fe6-4250',\n",
       "   '_rev': '_eKBunp----',\n",
       "   'rel': 'testing'},\n",
       "  {'_key': 'ccc-5459)(fe6-4250',\n",
       "   '_id': 'is_also/ccc-5459)(fe6-4250',\n",
       "   '_from': 'text/ccc-5459',\n",
       "   '_to': 'text/fe6-4250',\n",
       "   '_rev': '_eKBu3ma---',\n",
       "   'rel': 'testing'},\n",
       "  {'_key': 'ccc-5459)--(fe6-4250',\n",
       "   '_id': 'is_also/ccc-5459)--(fe6-4250',\n",
       "   '_from': 'text/ccc-5459',\n",
       "   '_to': 'text/fe6-4250',\n",
       "   '_rev': '_eKBvEX6---',\n",
       "   'rel': 'testing'},\n",
       "  {'_key': 'ccc-5459)-(fe6-4250',\n",
       "   '_id': 'is_also/ccc-5459)-(fe6-4250',\n",
       "   '_from': 'text/ccc-5459',\n",
       "   '_to': 'text/fe6-4250',\n",
       "   '_rev': '_eKBvkxe---',\n",
       "   'rel': 'testing'},\n",
       "  {'_key': 'ccc-5459)---(fe6-4250',\n",
       "   '_id': 'is_also/ccc-5459)---(fe6-4250',\n",
       "   '_from': 'text/ccc-5459',\n",
       "   '_to': 'text/fe6-4250',\n",
       "   '_rev': '_eKBvwQy---',\n",
       "   'rel': 'testing'},\n",
       "  {'_key': 'ccc-5459__fe6-4250',\n",
       "   '_id': 'is_also/ccc-5459__fe6-4250',\n",
       "   '_from': 'text/ccc-5459',\n",
       "   '_to': 'text/fe6-4250',\n",
       "   '_rev': '_eKBy_KG---',\n",
       "   'rel': 'testing'}],\n",
       " 'stats': {'filtered': 0, 'scanned_index': 23}}"
      ]
     },
     "execution_count": 17,
     "metadata": {},
     "output_type": "execute_result"
    }
   ],
   "source": [
    "g.edges('is_also', 'text/ccc-5459')"
   ]
  },
  {
   "cell_type": "code",
   "execution_count": 8,
   "metadata": {},
   "outputs": [],
   "source": [
    "odx=g.traverse(\n",
    "    start_vertex='text/ccc-5459',\n",
    "    direction='outbound',\n",
    "    strategy='bfs',\n",
    "    edge_uniqueness='global',\n",
    "    vertex_uniqueness='global',\n",
    ")"
   ]
  },
  {
   "cell_type": "code",
   "execution_count": 14,
   "metadata": {},
   "outputs": [
    {
     "data": {
      "text/plain": [
       "{'_key': 'fe6-4250',\n",
       " '_id': 'text/fe6-4250',\n",
       " '_rev': '_eJ6pyWW---',\n",
       " '_addr': '_estc/020/T084292',\n",
       " '_corpus': 'estc',\n",
       " 'id': '020/T084292',\n",
       " 'au': 'Herbert',\n",
       " 'ti': 'The Establishment Vindicated',\n",
       " 'yr': 1730,\n",
       " 'author': 'Herbert',\n",
       " 'author_dates': 'Dr',\n",
       " 'book_dimensions': '8⁰',\n",
       " 'book_dimensions_standard': '8',\n",
       " 'book_extent': '8],47,[1]p.',\n",
       " 'book_extent_num_pages': '47.0',\n",
       " 'corpus': 'ESTC',\n",
       " 'form_marc': '|',\n",
       " 'id_estc': 'T084292',\n",
       " 'in_ecco': 'True',\n",
       " 'lang': 'eng',\n",
       " 'notes': 'Anonymous. By Dr. Herbert, Chaplain to the Royal Regiment of Foot | With a half-title',\n",
       " 'pub_city': 'London',\n",
       " 'pub_nation': 'Great Britain',\n",
       " 'pub_region': 'England',\n",
       " 'pub_statement': 'printed for J. Roberts in Warwick-Lane',\n",
       " 'subject_topic': 'Church of England | Ecclesiastical law',\n",
       " 'title': 'The establishment vindicated, against the advocates for licentiousness',\n",
       " 'year': '1730',\n",
       " 'year_type_marc': 's'}"
      ]
     },
     "execution_count": 14,
     "metadata": {},
     "output_type": "execute_result"
    }
   ],
   "source": [
    "odx['vertices'][-1]"
   ]
  },
  {
   "cell_type": "code",
   "execution_count": null,
   "metadata": {},
   "outputs": [],
   "source": []
  }
 ],
 "metadata": {
  "interpreter": {
   "hash": "99c3488a746bccd77b7949f8f419451e1c962da56ebbaaae6e4d2e6c8c07eaa0"
  },
  "kernelspec": {
   "display_name": "Python 3.9.7 ('base')",
   "language": "python",
   "name": "python3"
  },
  "language_info": {
   "codemirror_mode": {
    "name": "ipython",
    "version": 3
   },
   "file_extension": ".py",
   "mimetype": "text/x-python",
   "name": "python",
   "nbconvert_exporter": "python",
   "pygments_lexer": "ipython3",
   "version": "3.9.7"
  },
  "orig_nbformat": 4
 },
 "nbformat": 4,
 "nbformat_minor": 2
}
