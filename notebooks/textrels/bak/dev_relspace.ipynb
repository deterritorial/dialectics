{
 "cells": [
  {
   "cell_type": "code",
   "execution_count": 1,
   "metadata": {},
   "outputs": [],
   "source": [
    "import sys; sys.path.insert(0,'../..')\n",
    "from dialectics import *"
   ]
  },
  {
   "cell_type": "code",
   "execution_count": 2,
   "metadata": {},
   "outputs": [],
   "source": [
    "t=Text(\"_tedjdh/K027670.002\")\n",
    "t1=Text('t1')\n",
    "t2=Text('t2')\n",
    "t3=Text('t3')\n",
    "t4=Text('t4')\n",
    "t5=Text('t5')\n",
    "t1.relate(t2)\n",
    "t2.relate(t3)\n",
    "t3.relate(t4)\n",
    "t4.relate(t5)\n",
    "t1,t2,t3,t4,t5\n",
    "t6=Text('t6')\n",
    "t7=Text('t7')\n",
    "\n",
    "t3.relate(t6)\n",
    "t6.relate(t7)"
   ]
  },
  {
   "cell_type": "code",
   "execution_count": 4,
   "metadata": {},
   "outputs": [
    {
     "name": "stdout",
     "output_type": "stream",
     "text": [
      "564 ms ± 161 ms per loop (mean ± std. dev. of 7 runs, 1 loop each)\n"
     ]
    }
   ],
   "source": [
    "%%timeit\n",
    "t1.graph_ties()"
   ]
  },
  {
   "cell_type": "code",
   "execution_count": 12,
   "metadata": {},
   "outputs": [],
   "source": [
    "# # %%timeit\n",
    "# def traverse_depth(self,depth_remaining=1,done=None):\n",
    "#     o=set()\n",
    "#     done=set() if done is None else {x for x in done}\n",
    "#     for tx in self.strong_ties():\n",
    "#         edge=(t._id,tx._id)\n",
    "#         o|={edge}\n",
    "#         if depth_remaining and tx not in done and tx!=self:\n",
    "#             o|=tx.traverse_depth(\n",
    "#                 depth_remaining=-depth_remaining,\n",
    "#                 done=done|{tx}\n",
    "#             )\n",
    "#     return o\n",
    "\n",
    "# BaseText.traverse_depth = traverse_depth"
   ]
  },
  {
   "cell_type": "code",
   "execution_count": 18,
   "metadata": {},
   "outputs": [
    {
     "data": {
      "text/plain": [
       "[('text/CYYju', 'text/M0VSy'),\n",
       " ('text/CYYju', 'text/AtiV6'),\n",
       " ('text/CYYju', 'text/MeWx3'),\n",
       " ('text/CYYju', 'text/Lrgxc'),\n",
       " ('text/CYYju', 'text/6QzXv'),\n",
       " ('text/CYYju', 'text/WAzHB'),\n",
       " ('text/CYYju', 'text/dz8C8')]"
      ]
     },
     "execution_count": 18,
     "metadata": {},
     "output_type": "execute_result"
    }
   ],
   "source": [
    "res=list(t1.traverse_depth(depth_remaining=2))\n",
    "res"
   ]
  },
  {
   "cell_type": "code",
   "execution_count": 4,
   "metadata": {},
   "outputs": [
    {
     "data": {
      "text/plain": [
       "(5, 4)"
      ]
     },
     "execution_count": 4,
     "metadata": {},
     "output_type": "execute_result"
    }
   ],
   "source": [
    "g=t1.graph_ties()\n",
    "g.order(), g.size()"
   ]
  },
  {
   "cell_type": "code",
   "execution_count": 12,
   "metadata": {},
   "outputs": [
    {
     "name": "stdout",
     "output_type": "stream",
     "text": [
      "17.5 ms ± 1.56 ms per loop (mean ± std. dev. of 7 runs, 100 loops each)\n"
     ]
    }
   ],
   "source": [
    "%%timeit\n",
    "t1.traverse_ties(max_depth=1)"
   ]
  },
  {
   "cell_type": "code",
   "execution_count": 13,
   "metadata": {},
   "outputs": [
    {
     "name": "stdout",
     "output_type": "stream",
     "text": [
      "14.5 ms ± 3.34 ms per loop (mean ± std. dev. of 7 runs, 100 loops each)\n"
     ]
    }
   ],
   "source": [
    "%%timeit\n",
    "t1.strong_ties(data=True)"
   ]
  },
  {
   "cell_type": "code",
   "execution_count": 14,
   "metadata": {},
   "outputs": [
    {
     "data": {
      "text/plain": [
       "{Sterne, LETTERS OF THE LATE REV (1775) [_tedjdh/K027670.001] <text/jZtYn>,\n",
       " Sterne, LETTERS OF THE LATE REV (1775) [_tedjdh/K027670.002] <text/CYYju>,\n",
       " Sterne, LETTERS OF THE LATE REV (1775) [_tedjdh/K027670.003] <text/9vL1A>}"
      ]
     },
     "execution_count": 14,
     "metadata": {},
     "output_type": "execute_result"
    }
   ],
   "source": []
  },
  {
   "cell_type": "code",
   "execution_count": null,
   "metadata": {},
   "outputs": [],
   "source": []
  },
  {
   "cell_type": "code",
   "execution_count": 13,
   "metadata": {},
   "outputs": [
    {
     "data": {
      "image/png": "[encoded data removed]",
      "text/plain": [
       "<Figure size 1440x720 with 1 Axes>"
      ]
     },
     "metadata": {},
     "output_type": "display_data"
    }
   ],
   "source": [
    "draw_nx(g)"
   ]
  },
  {
   "cell_type": "code",
   "execution_count": null,
   "metadata": {},
   "outputs": [],
   "source": []
  },
  {
   "cell_type": "code",
   "execution_count": null,
   "metadata": {},
   "outputs": [],
   "source": []
  },
  {
   "cell_type": "code",
   "execution_count": null,
   "metadata": {},
   "outputs": [],
   "source": []
  },
  {
   "cell_type": "code",
   "execution_count": null,
   "metadata": {},
   "outputs": [],
   "source": []
  },
  {
   "cell_type": "code",
   "execution_count": null,
   "metadata": {},
   "outputs": [],
   "source": []
  },
  {
   "cell_type": "code",
   "execution_count": 96,
   "metadata": {},
   "outputs": [],
   "source": []
  },
  {
   "cell_type": "code",
   "execution_count": 97,
   "metadata": {},
   "outputs": [],
   "source": [
    "t=t1"
   ]
  },
  {
   "cell_type": "markdown",
   "metadata": {},
   "source": []
  },
  {
   "cell_type": "markdown",
   "metadata": {},
   "source": []
  },
  {
   "cell_type": "code",
   "execution_count": 98,
   "metadata": {},
   "outputs": [
    {
     "data": {
      "text/markdown": [
       "### [_tmp/t1] <text/dz8C8>"
      ],
      "text/plain": [
       "<IPython.core.display.Markdown object>"
      ]
     },
     "metadata": {},
     "output_type": "display_data"
    },
    {
     "data": {
      "text/markdown": [
       "#### Strong ties (immediate neighbors)"
      ],
      "text/plain": [
       "<IPython.core.display.Markdown object>"
      ]
     },
     "metadata": {},
     "output_type": "display_data"
    },
    {
     "data": {
      "text/markdown": [
       "  * [_tmp/t2] <text/Lrgxc> [relation = rdf:type]"
      ],
      "text/plain": [
       "<IPython.core.display.Markdown object>"
      ]
     },
     "metadata": {},
     "output_type": "display_data"
    },
    {
     "data": {
      "text/markdown": [
       "#### My weak ties (1+ degreee removed)"
      ],
      "text/plain": [
       "<IPython.core.display.Markdown object>"
      ]
     },
     "metadata": {},
     "output_type": "display_data"
    },
    {
     "name": "stdout",
     "output_type": "stream",
     "text": [
      "  * [_tmp/t4] <text/M0VSy> [relation = ?]\n",
      "  * [_tmp/t3] <text/WAzHB> [relation = ?]\n"
     ]
    }
   ],
   "source": [
    "printm(f'### {t}')\n",
    "\n",
    "printm(f\"#### Strong ties (immediate neighbors)\")\n",
    "for t2,d in t.strong_ties():\n",
    "    printm(f\"  * {t2} [relation = {d.get('rel','?')}]\") \n",
    "\n",
    "printm(f\"#### My weak ties (1+ degreee removed)\")\n",
    "for t2,d in t.weak_ties(max_depth=3):\n",
    "    print(f\"  * {t2} [relation = {d.get('rel','?')}]\") "
   ]
  },
  {
   "cell_type": "code",
   "execution_count": 94,
   "metadata": {},
   "outputs": [
    {
     "name": "stdout",
     "output_type": "stream",
     "text": [
      "39.6 ms ± 6.2 ms per loop (mean ± std. dev. of 7 runs, 10 loops each)\n"
     ]
    }
   ],
   "source": [
    "%%timeit\n",
    "t.weak_ties(max_depth=2)"
   ]
  },
  {
   "cell_type": "code",
   "execution_count": 102,
   "metadata": {},
   "outputs": [
    {
     "data": {
      "text/plain": [
       "set()"
      ]
     },
     "execution_count": 102,
     "metadata": {},
     "output_type": "execute_result"
    }
   ],
   "source": [
    "res"
   ]
  },
  {
   "cell_type": "code",
   "execution_count": null,
   "metadata": {},
   "outputs": [],
   "source": []
  }
 ],
 "metadata": {
  "interpreter": {
   "hash": "99c3488a746bccd77b7949f8f419451e1c962da56ebbaaae6e4d2e6c8c07eaa0"
  },
  "kernelspec": {
   "display_name": "Python 3.9.7 ('base')",
   "language": "python",
   "name": "python3"
  },
  "language_info": {
   "codemirror_mode": {
    "name": "ipython",
    "version": 3
   },
   "file_extension": ".py",
   "mimetype": "text/x-python",
   "name": "python",
   "nbconvert_exporter": "python",
   "pygments_lexer": "ipython3",
   "version": "3.9.7"
  },
  "orig_nbformat": 4
 },
 "nbformat": 4,
 "nbformat_minor": 2
}
