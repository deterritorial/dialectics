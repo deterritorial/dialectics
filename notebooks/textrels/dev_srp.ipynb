{
 "cells": [
  {
   "cell_type": "code",
   "execution_count": null,
   "metadata": {},
   "outputs": [],
   "source": [
    "import sys; sys.path.insert(0,'../..')\n",
    "from totality import Text,log,Corpus\n",
    "log.off()"
   ]
  },
  {
   "cell_type": "code",
   "execution_count": 2,
   "metadata": {},
   "outputs": [],
   "source": [
    "t = Text('sh_fr')#,title=\"Frankenstein\",author=\"Shelley\")"
   ]
  },
  {
   "cell_type": "code",
   "execution_count": 3,
   "metadata": {},
   "outputs": [],
   "source": [
    "# Corpus('chadwyck').texts()"
   ]
  },
  {
   "cell_type": "code",
   "execution_count": 4,
   "metadata": {},
   "outputs": [
    {
     "name": "stderr",
     "output_type": "stream",
     "text": [
      "[15:57:52.008] totality.corpora.corpus.\u001b[34m\u001b[1minit_from_file\u001b[0m( \u001b[36mloading corpus from file\u001b[0m )\n"
     ]
    },
    {
     "data": {
      "application/vnd.jupyter.widget-view+json": {
       "model_id": "122c1bfe8496458a9b1c1e823eda829d",
       "version_major": 2,
       "version_minor": 0
      },
      "text/plain": [
       "[15:57:52.11] Iterating CSV [/Users/ryan/totality/corpora/chadwyck/metadata.csv]:   0%|          | 0/1338 [00:…"
      ]
     },
     "metadata": {},
     "output_type": "display_data"
    },
    {
     "name": "stderr",
     "output_type": "stream",
     "text": [
      "[15:57:52.157] totality.corpora.corpus.\u001b[34m\u001b[1minit_iter\u001b[0m( \u001b[36mInitialized 1337 texts\u001b[0m )\n"
     ]
    },
    {
     "data": {
      "application/vnd.jupyter.widget-view+json": {
       "model_id": "9d98249147d84edc8ccd3740f90ba5e1",
       "version_major": 2,
       "version_minor": 0
      },
      "text/plain": [
       "[15:57:52.158] [Chadwyck] Iterating texts:   0%|          | 0/1337 [00:00<?, ?it/s]"
      ]
     },
     "metadata": {},
     "output_type": "display_data"
    },
    {
     "ename": "KeyboardInterrupt",
     "evalue": "",
     "output_type": "error",
     "traceback": [
      "\u001b[0;31m---------------------------------------------------------------------------\u001b[0m",
      "\u001b[0;31mKeyboardInterrupt\u001b[0m                         Traceback (most recent call last)",
      "\u001b[1;32m/Users/ryan/github/totality/notebooks/textrels/dev_srp.ipynb Cell 4'\u001b[0m in \u001b[0;36m<cell line: 2>\u001b[0;34m()\u001b[0m\n\u001b[1;32m      <a href='vscode-notebook-cell:/Users/ryan/github/totality/notebooks/textrels/dev_srp.ipynb#ch0000003?line=0'>1</a>\u001b[0m \u001b[39mfrom\u001b[39;00m \u001b[39mtotality\u001b[39;00m \u001b[39mimport\u001b[39;00m Corpus\n\u001b[1;32m      <a href='vscode-notebook-cell:/Users/ryan/github/totality/notebooks/textrels/dev_srp.ipynb#ch0000003?line=1'>2</a>\u001b[0m \u001b[39mfor\u001b[39;00m t \u001b[39min\u001b[39;00m Corpus(\u001b[39m'\u001b[39m\u001b[39mchadwyck\u001b[39m\u001b[39m'\u001b[39m)\u001b[39m.\u001b[39mtexts(progress\u001b[39m=\u001b[39m\u001b[39mTrue\u001b[39;00m):\n\u001b[0;32m----> <a href='vscode-notebook-cell:/Users/ryan/github/totality/notebooks/textrels/dev_srp.ipynb#ch0000003?line=2'>3</a>\u001b[0m     t\u001b[39m.\u001b[39;49msrp(num_dim\u001b[39m=\u001b[39;49m\u001b[39m2\u001b[39;49m, cache\u001b[39m=\u001b[39;49m\u001b[39mTrue\u001b[39;49;00m, force\u001b[39m=\u001b[39;49m\u001b[39mTrue\u001b[39;49;00m)\n",
      "File \u001b[0;32m~/github/totality/notebooks/textrels/../../totality/texts/text.py:417\u001b[0m, in \u001b[0;36mBaseText.srp\u001b[0;34m(self, n_dim, cache, force, **kwargs)\u001b[0m\n\u001b[1;32m    <a href='file:///Users/ryan/github/totality/notebooks/textrels/../../totality/texts/text.py?line=414'>415</a>\u001b[0m hasher \u001b[39m=\u001b[39m srp\u001b[39m.\u001b[39mSRP(n_dim)\n\u001b[1;32m    <a href='file:///Users/ryan/github/totality/notebooks/textrels/../../totality/texts/text.py?line=415'>416</a>\u001b[0m words,counts \u001b[39m=\u001b[39m \u001b[39mzip\u001b[39m(\u001b[39m*\u001b[39m\u001b[39mself\u001b[39m\u001b[39m.\u001b[39mcounts()\u001b[39m.\u001b[39mitems())\n\u001b[0;32m--> <a href='file:///Users/ryan/github/totality/notebooks/textrels/../../totality/texts/text.py?line=416'>417</a>\u001b[0m res \u001b[39m=\u001b[39m hasher\u001b[39m.\u001b[39;49mstable_transform(words \u001b[39m=\u001b[39;49m words,counts \u001b[39m=\u001b[39;49m counts)\n\u001b[1;32m    <a href='file:///Users/ryan/github/totality/notebooks/textrels/../../totality/texts/text.py?line=418'>419</a>\u001b[0m \u001b[39mif\u001b[39;00m cache \u001b[39mand\u001b[39;00m \u001b[39mlen\u001b[39m(res)\u001b[39m==\u001b[39mn_dim:\n\u001b[1;32m    <a href='file:///Users/ryan/github/totality/notebooks/textrels/../../totality/texts/text.py?line=419'>420</a>\u001b[0m     \u001b[39mif\u001b[39;00m n_dim\u001b[39m==\u001b[39m\u001b[39m2\u001b[39m:\n",
      "File \u001b[0;32m~/miniforge3/lib/python3.9/site-packages/srp/SRP.py:225\u001b[0m, in \u001b[0;36mSRP.stable_transform\u001b[0;34m(self, words, counts, log, standardize, unit_length)\u001b[0m\n\u001b[1;32m    <a href='file:///Users/ryan/miniforge3/lib/python3.9/site-packages/srp/SRP.py?line=222'>223</a>\u001b[0m         scores \u001b[39m=\u001b[39m np\u001b[39m.\u001b[39mzeros((\u001b[39mlen\u001b[39m(words), \u001b[39mself\u001b[39m\u001b[39m.\u001b[39mdim), dtype \u001b[39m=\u001b[39m np\u001b[39m.\u001b[39mfloat32)\n\u001b[1;32m    <a href='file:///Users/ryan/miniforge3/lib/python3.9/site-packages/srp/SRP.py?line=223'>224</a>\u001b[0m         \u001b[39mfor\u001b[39;00m i, word \u001b[39min\u001b[39;00m \u001b[39menumerate\u001b[39m(words):\n\u001b[0;32m--> <a href='file:///Users/ryan/miniforge3/lib/python3.9/site-packages/srp/SRP.py?line=224'>225</a>\u001b[0m             scores[i] \u001b[39m=\u001b[39m \u001b[39mself\u001b[39;49m\u001b[39m.\u001b[39;49mhash_string(word)\n\u001b[1;32m    <a href='file:///Users/ryan/miniforge3/lib/python3.9/site-packages/srp/SRP.py?line=225'>226</a>\u001b[0m         \u001b[39mtry\u001b[39;00m:\n\u001b[1;32m    <a href='file:///Users/ryan/miniforge3/lib/python3.9/site-packages/srp/SRP.py?line=226'>227</a>\u001b[0m \u001b[39m#            values = np.average(scores, weights=counts, axis=0)\u001b[39;00m\n\u001b[1;32m    <a href='file:///Users/ryan/miniforge3/lib/python3.9/site-packages/srp/SRP.py?line=227'>228</a>\u001b[0m             values \u001b[39m=\u001b[39m counts \u001b[39m@\u001b[39m scores\n",
      "File \u001b[0;32m~/miniforge3/lib/python3.9/site-packages/srp/SRP.py:123\u001b[0m, in \u001b[0;36mSRP.hash_string\u001b[0;34m(self, string, cache)\u001b[0m\n\u001b[1;32m    <a href='file:///Users/ryan/miniforge3/lib/python3.9/site-packages/srp/SRP.py?line=119'>120</a>\u001b[0m \u001b[39melse\u001b[39;00m:\n\u001b[1;32m    <a href='file:///Users/ryan/miniforge3/lib/python3.9/site-packages/srp/SRP.py?line=120'>121</a>\u001b[0m     cache \u001b[39m=\u001b[39m \u001b[39mFalse\u001b[39;00m\n\u001b[0;32m--> <a href='file:///Users/ryan/miniforge3/lib/python3.9/site-packages/srp/SRP.py?line=122'>123</a>\u001b[0m value \u001b[39m=\u001b[39m \u001b[39mself\u001b[39;49m\u001b[39m.\u001b[39;49mstring_to_binary(string)\n\u001b[1;32m    <a href='file:///Users/ryan/miniforge3/lib/python3.9/site-packages/srp/SRP.py?line=124'>125</a>\u001b[0m \u001b[39mif\u001b[39;00m cache \u001b[39mand\u001b[39;00m \u001b[39mself\u001b[39m\u001b[39m.\u001b[39m_cache_size() \u001b[39m>\u001b[39m\u001b[39m=\u001b[39m \u001b[39mself\u001b[39m\u001b[39m.\u001b[39mcache_limit:\n\u001b[1;32m    <a href='file:///Users/ryan/miniforge3/lib/python3.9/site-packages/srp/SRP.py?line=125'>126</a>\u001b[0m     \u001b[39m# Clear the cache; maybe things have changed.\u001b[39;00m\n\u001b[1;32m    <a href='file:///Users/ryan/miniforge3/lib/python3.9/site-packages/srp/SRP.py?line=126'>127</a>\u001b[0m     \u001b[39mself\u001b[39m\u001b[39m.\u001b[39m_hash_dict \u001b[39m=\u001b[39m \u001b[39mself\u001b[39m\u001b[39m.\u001b[39m_last_hash_dict\n",
      "File \u001b[0;32m~/miniforge3/lib/python3.9/site-packages/srp/SRP.py:81\u001b[0m, in \u001b[0;36mSRP.string_to_binary\u001b[0;34m(self, string)\u001b[0m\n\u001b[1;32m     <a href='file:///Users/ryan/miniforge3/lib/python3.9/site-packages/srp/SRP.py?line=78'>79</a>\u001b[0m         full_hash \u001b[39m+\u001b[39m\u001b[39m=\u001b[39m hashlib\u001b[39m.\u001b[39msha1(seedword)\u001b[39m.\u001b[39mdigest()\n\u001b[1;32m     <a href='file:///Users/ryan/miniforge3/lib/python3.9/site-packages/srp/SRP.py?line=79'>80</a>\u001b[0m as_keys \u001b[39m=\u001b[39m np\u001b[39m.\u001b[39mfrombuffer(full_hash, np\u001b[39m.\u001b[39muint16)\n\u001b[0;32m---> <a href='file:///Users/ryan/miniforge3/lib/python3.9/site-packages/srp/SRP.py?line=80'>81</a>\u001b[0m \u001b[39mreturn\u001b[39;00m \u001b[39mself\u001b[39;49m\u001b[39m.\u001b[39;49mlookup_table[as_keys]\u001b[39m.\u001b[39mflatten()[:\u001b[39mself\u001b[39m\u001b[39m.\u001b[39mdim]\n",
      "\u001b[0;31mKeyboardInterrupt\u001b[0m: "
     ]
    }
   ],
   "source": [
    "from totality import Corpus\n",
    "for t in Corpus('chadwyck').texts(progress=True):\n",
    "    t.srp(num_dim=2, cache=True, force=True)"
   ]
  },
  {
   "cell_type": "code",
   "execution_count": 7,
   "metadata": {},
   "outputs": [
    {
     "data": {
      "text/plain": [
       "Fay, CRAYON SKETCHES (1833) [_chadwyck/Early_American_Fiction/faytheod.06] <3G1t5>"
      ]
     },
     "execution_count": 7,
     "metadata": {},
     "output_type": "execute_result"
    }
   ],
   "source": [
    "t = Corpus('chadwyck').t\n",
    "t"
   ]
  },
  {
   "cell_type": "code",
   "execution_count": 8,
   "metadata": {},
   "outputs": [
    {
     "data": {
      "text/plain": [
       "array([-0.79244167,  0.60994774], dtype=float32)"
      ]
     },
     "execution_count": 8,
     "metadata": {},
     "output_type": "execute_result"
    }
   ],
   "source": [
    "array = t.srp(cache=True,force=True)\n",
    "array"
   ]
  },
  {
   "cell_type": "code",
   "execution_count": 9,
   "metadata": {},
   "outputs": [
    {
     "ename": "DocumentGetError",
     "evalue": "[HTTP 404][ERR 1570] AQL: no suitable geo index found for geo restriction on 'text' (while optimizing plan)",
     "output_type": "error",
     "traceback": [
      "\u001b[0;31m---------------------------------------------------------------------------\u001b[0m",
      "\u001b[0;31mDocumentGetError\u001b[0m                          Traceback (most recent call last)",
      "\u001b[1;32m/Users/ryan/github/totality/notebooks/textrels/dev_srp.ipynb Cell 7'\u001b[0m in \u001b[0;36m<cell line: 2>\u001b[0;34m()\u001b[0m\n\u001b[1;32m      <a href='vscode-notebook-cell:/Users/ryan/github/totality/notebooks/textrels/dev_srp.ipynb#ch0000029?line=0'>1</a>\u001b[0m \u001b[39mfrom\u001b[39;00m \u001b[39mtotality\u001b[39;00m \u001b[39mimport\u001b[39;00m Textspace\n\u001b[0;32m----> <a href='vscode-notebook-cell:/Users/ryan/github/totality/notebooks/textrels/dev_srp.ipynb#ch0000029?line=1'>2</a>\u001b[0m Textspace()\u001b[39m.\u001b[39;49mcoll\u001b[39m.\u001b[39;49mfind_near(\u001b[39mfloat\u001b[39;49m(array[\u001b[39m0\u001b[39;49m]), \u001b[39mfloat\u001b[39;49m(array[\u001b[39m1\u001b[39;49m]))\n",
      "File \u001b[0;32m~/miniforge3/lib/python3.9/site-packages/arango/collection.py:776\u001b[0m, in \u001b[0;36mCollection.find_near\u001b[0;34m(self, latitude, longitude, limit)\u001b[0m\n\u001b[1;32m    <a href='file:///Users/ryan/miniforge3/lib/python3.9/site-packages/arango/collection.py?line=772'>773</a>\u001b[0m         \u001b[39mraise\u001b[39;00m DocumentGetError(resp, request)\n\u001b[1;32m    <a href='file:///Users/ryan/miniforge3/lib/python3.9/site-packages/arango/collection.py?line=773'>774</a>\u001b[0m     \u001b[39mreturn\u001b[39;00m Cursor(\u001b[39mself\u001b[39m\u001b[39m.\u001b[39m_conn, resp\u001b[39m.\u001b[39mbody)\n\u001b[0;32m--> <a href='file:///Users/ryan/miniforge3/lib/python3.9/site-packages/arango/collection.py?line=775'>776</a>\u001b[0m \u001b[39mreturn\u001b[39;00m \u001b[39mself\u001b[39;49m\u001b[39m.\u001b[39;49m_execute(request, response_handler)\n",
      "File \u001b[0;32m~/miniforge3/lib/python3.9/site-packages/arango/api.py:74\u001b[0m, in \u001b[0;36mApiGroup._execute\u001b[0;34m(self, request, response_handler)\u001b[0m\n\u001b[1;32m     <a href='file:///Users/ryan/miniforge3/lib/python3.9/site-packages/arango/api.py?line=62'>63</a>\u001b[0m \u001b[39mdef\u001b[39;00m \u001b[39m_execute\u001b[39m(\n\u001b[1;32m     <a href='file:///Users/ryan/miniforge3/lib/python3.9/site-packages/arango/api.py?line=63'>64</a>\u001b[0m     \u001b[39mself\u001b[39m, request: Request, response_handler: Callable[[Response], T]\n\u001b[1;32m     <a href='file:///Users/ryan/miniforge3/lib/python3.9/site-packages/arango/api.py?line=64'>65</a>\u001b[0m ) \u001b[39m-\u001b[39m\u001b[39m>\u001b[39m Result[T]:\n\u001b[1;32m     <a href='file:///Users/ryan/miniforge3/lib/python3.9/site-packages/arango/api.py?line=65'>66</a>\u001b[0m     \u001b[39m\"\"\"Execute an API.\u001b[39;00m\n\u001b[1;32m     <a href='file:///Users/ryan/miniforge3/lib/python3.9/site-packages/arango/api.py?line=66'>67</a>\u001b[0m \n\u001b[1;32m     <a href='file:///Users/ryan/miniforge3/lib/python3.9/site-packages/arango/api.py?line=67'>68</a>\u001b[0m \u001b[39m    :param request: HTTP request.\u001b[39;00m\n\u001b[0;32m   (...)\u001b[0m\n\u001b[1;32m     <a href='file:///Users/ryan/miniforge3/lib/python3.9/site-packages/arango/api.py?line=71'>72</a>\u001b[0m \u001b[39m    :return: API execution result.\u001b[39;00m\n\u001b[1;32m     <a href='file:///Users/ryan/miniforge3/lib/python3.9/site-packages/arango/api.py?line=72'>73</a>\u001b[0m \u001b[39m    \"\"\"\u001b[39;00m\n\u001b[0;32m---> <a href='file:///Users/ryan/miniforge3/lib/python3.9/site-packages/arango/api.py?line=73'>74</a>\u001b[0m     \u001b[39mreturn\u001b[39;00m \u001b[39mself\u001b[39;49m\u001b[39m.\u001b[39;49m_executor\u001b[39m.\u001b[39;49mexecute(request, response_handler)\n",
      "File \u001b[0;32m~/miniforge3/lib/python3.9/site-packages/arango/executor.py:65\u001b[0m, in \u001b[0;36mDefaultApiExecutor.execute\u001b[0;34m(self, request, response_handler)\u001b[0m\n\u001b[1;32m     <a href='file:///Users/ryan/miniforge3/lib/python3.9/site-packages/arango/executor.py?line=55'>56</a>\u001b[0m \u001b[39m\"\"\"Execute an API request and return the result.\u001b[39;00m\n\u001b[1;32m     <a href='file:///Users/ryan/miniforge3/lib/python3.9/site-packages/arango/executor.py?line=56'>57</a>\u001b[0m \n\u001b[1;32m     <a href='file:///Users/ryan/miniforge3/lib/python3.9/site-packages/arango/executor.py?line=57'>58</a>\u001b[0m \u001b[39m:param request: HTTP request.\u001b[39;00m\n\u001b[0;32m   (...)\u001b[0m\n\u001b[1;32m     <a href='file:///Users/ryan/miniforge3/lib/python3.9/site-packages/arango/executor.py?line=61'>62</a>\u001b[0m \u001b[39m:return: API execution result.\u001b[39;00m\n\u001b[1;32m     <a href='file:///Users/ryan/miniforge3/lib/python3.9/site-packages/arango/executor.py?line=62'>63</a>\u001b[0m \u001b[39m\"\"\"\u001b[39;00m\n\u001b[1;32m     <a href='file:///Users/ryan/miniforge3/lib/python3.9/site-packages/arango/executor.py?line=63'>64</a>\u001b[0m resp \u001b[39m=\u001b[39m \u001b[39mself\u001b[39m\u001b[39m.\u001b[39m_conn\u001b[39m.\u001b[39msend_request(request)\n\u001b[0;32m---> <a href='file:///Users/ryan/miniforge3/lib/python3.9/site-packages/arango/executor.py?line=64'>65</a>\u001b[0m \u001b[39mreturn\u001b[39;00m response_handler(resp)\n",
      "File \u001b[0;32m~/miniforge3/lib/python3.9/site-packages/arango/collection.py:773\u001b[0m, in \u001b[0;36mCollection.find_near.<locals>.response_handler\u001b[0;34m(resp)\u001b[0m\n\u001b[1;32m    <a href='file:///Users/ryan/miniforge3/lib/python3.9/site-packages/arango/collection.py?line=770'>771</a>\u001b[0m \u001b[39mdef\u001b[39;00m \u001b[39mresponse_handler\u001b[39m(resp: Response) \u001b[39m-\u001b[39m\u001b[39m>\u001b[39m Cursor:\n\u001b[1;32m    <a href='file:///Users/ryan/miniforge3/lib/python3.9/site-packages/arango/collection.py?line=771'>772</a>\u001b[0m     \u001b[39mif\u001b[39;00m \u001b[39mnot\u001b[39;00m resp\u001b[39m.\u001b[39mis_success:\n\u001b[0;32m--> <a href='file:///Users/ryan/miniforge3/lib/python3.9/site-packages/arango/collection.py?line=772'>773</a>\u001b[0m         \u001b[39mraise\u001b[39;00m DocumentGetError(resp, request)\n\u001b[1;32m    <a href='file:///Users/ryan/miniforge3/lib/python3.9/site-packages/arango/collection.py?line=773'>774</a>\u001b[0m     \u001b[39mreturn\u001b[39;00m Cursor(\u001b[39mself\u001b[39m\u001b[39m.\u001b[39m_conn, resp\u001b[39m.\u001b[39mbody)\n",
      "\u001b[0;31mDocumentGetError\u001b[0m: [HTTP 404][ERR 1570] AQL: no suitable geo index found for geo restriction on 'text' (while optimizing plan)"
     ]
    }
   ],
   "source": [
    "from totality import Textspace\n",
    "Textspace().coll.find_near(float(array[0]), float(array[1]))"
   ]
  },
  {
   "cell_type": "code",
   "execution_count": null,
   "metadata": {},
   "outputs": [],
   "source": []
  },
  {
   "cell_type": "code",
   "execution_count": null,
   "metadata": {},
   "outputs": [],
   "source": []
  },
  {
   "cell_type": "code",
   "execution_count": null,
   "metadata": {},
   "outputs": [],
   "source": []
  },
  {
   "cell_type": "code",
   "execution_count": null,
   "metadata": {},
   "outputs": [],
   "source": []
  },
  {
   "cell_type": "code",
   "execution_count": null,
   "metadata": {},
   "outputs": [],
   "source": []
  },
  {
   "cell_type": "code",
   "execution_count": null,
   "metadata": {},
   "outputs": [],
   "source": []
  },
  {
   "cell_type": "code",
   "execution_count": null,
   "metadata": {},
   "outputs": [],
   "source": [
    "mat = t.srp(n_dim=640, cache=False)\n",
    "mat\n"
   ]
  },
  {
   "cell_type": "code",
   "execution_count": null,
   "metadata": {},
   "outputs": [],
   "source": [
    "from sklearn.manifold import TSNE\n",
    "tsne = TSNE(n_components=2, random_state=0)"
   ]
  },
  {
   "cell_type": "code",
   "execution_count": null,
   "metadata": {},
   "outputs": [],
   "source": [
    "tsne.fit_transform(mat)"
   ]
  },
  {
   "cell_type": "code",
   "execution_count": null,
   "metadata": {},
   "outputs": [],
   "source": [
    "!pip install -U pip\n",
    "# # "
   ]
  },
  {
   "cell_type": "code",
   "execution_count": null,
   "metadata": {},
   "outputs": [],
   "source": []
  }
 ],
 "metadata": {
  "interpreter": {
   "hash": "99c3488a746bccd77b7949f8f419451e1c962da56ebbaaae6e4d2e6c8c07eaa0"
  },
  "kernelspec": {
   "display_name": "Python 3.9.7 ('base')",
   "language": "python",
   "name": "python3"
  },
  "language_info": {
   "codemirror_mode": {
    "name": "ipython",
    "version": 3
   },
   "file_extension": ".py",
   "mimetype": "text/x-python",
   "name": "python",
   "nbconvert_exporter": "python",
   "pygments_lexer": "ipython3",
   "version": "3.9.7"
  },
  "orig_nbformat": 4
 },
 "nbformat": 4,
 "nbformat_minor": 2
}
