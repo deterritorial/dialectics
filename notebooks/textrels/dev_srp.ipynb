{
 "cells": [
  {
   "cell_type": "code",
   "execution_count": 1,
   "metadata": {},
   "outputs": [],
   "source": [
    "import sys; sys.path.insert(0,'../..')\n",
    "from intertxt import Text,log,Corpus\n",
    "log.off()\n",
    "N_DIM=640"
   ]
  },
  {
   "cell_type": "code",
   "execution_count": 2,
   "metadata": {},
   "outputs": [],
   "source": [
    "from intertxt import *\n",
    "class SRPModel(DocspaceModel):\n",
    "    NAME='srp'\n",
    "\n",
    "    def init_collection(self,drop=False):\n",
    "        if log>0: log(self)\n",
    "        if self.db.has_collection(self.name) and drop: self.db.delete_collection(self.name)\n",
    "        if not self.db.has_collection(self.name): self.db.create_collection(self.name)\n",
    "        coll = self._coll=self.db.collection(self.name)\n",
    "        coll.add_persistent_index(fields=['_addr'],unique=True)\n",
    "        return self._coll"
   ]
  },
  {
   "cell_type": "code",
   "execution_count": 3,
   "metadata": {},
   "outputs": [
    {
     "data": {
      "text/plain": [
       "<__main__.SRPModel at 0x104a43be0>"
      ]
     },
     "execution_count": 3,
     "metadata": {},
     "output_type": "execute_result"
    }
   ],
   "source": [
    "sm = SRPModel()\n",
    "sm"
   ]
  },
  {
   "cell_type": "code",
   "execution_count": 4,
   "metadata": {},
   "outputs": [],
   "source": []
  },
  {
   "cell_type": "code",
   "execution_count": 9,
   "metadata": {},
   "outputs": [
    {
     "data": {
      "application/vnd.jupyter.widget-view+json": {
       "model_id": "a409194776df472ba4ff360ef0d71d20",
       "version_major": 2,
       "version_minor": 0
      },
      "text/plain": [
       "[18:43:19.315] [Chadwyck] Iterating texts:   0%|          | 0/2 [00:00<?, ?it/s]"
      ]
     },
     "metadata": {},
     "output_type": "display_data"
    },
    {
     "data": {
      "application/vnd.jupyter.widget-view+json": {
       "model_id": "412d8704fc4e4bd89ed2d4768fd3821f",
       "version_major": 2,
       "version_minor": 0
      },
      "text/plain": [
       "[18:43:20.685] Iterating CSV [/Users/ryan/intertxt/corpora/markmark/metadata.csv]:   0%|          | 0/356 [00:…"
      ]
     },
     "metadata": {},
     "output_type": "display_data"
    },
    {
     "data": {
      "application/vnd.jupyter.widget-view+json": {
       "model_id": "97f112ccaa5946c59233a5ecd07b576a",
       "version_major": 2,
       "version_minor": 0
      },
      "text/plain": [
       "[18:43:20.737] [Markmark] Iterating texts:   0%|          | 0/355 [00:00<?, ?it/s]"
      ]
     },
     "metadata": {},
     "output_type": "display_data"
    },
    {
     "data": {
      "application/vnd.jupyter.widget-view+json": {
       "model_id": "9644424970f5482db01a8b71fda4cf6a",
       "version_major": 2,
       "version_minor": 0
      },
      "text/plain": [
       "[18:46:31.246] Iterating CSV [/Users/ryan/intertxt/corpora/chicago/metadata.csv]:   0%|          | 0/9090 [00:…"
      ]
     },
     "metadata": {},
     "output_type": "display_data"
    },
    {
     "data": {
      "application/vnd.jupyter.widget-view+json": {
       "model_id": "c09c85292db0474fb1f55df6b9660fcc",
       "version_major": 2,
       "version_minor": 0
      },
      "text/plain": [
       "[18:46:32.898] [Chicago] Iterating texts:   0%|          | 0/5249 [00:00<?, ?it/s]"
      ]
     },
     "metadata": {},
     "output_type": "display_data"
    },
    {
     "data": {
      "application/vnd.jupyter.widget-view+json": {
       "model_id": "dc44cd2991734568b3afd54fd94fb3e3",
       "version_major": 2,
       "version_minor": 0
      },
      "text/plain": [
       "[18:48:42.958] Iterating CSV [/Users/ryan/intertxt/corpora/tedjdh/metadata.csv]:   0%|          | 0/3779 [00:0…"
      ]
     },
     "metadata": {},
     "output_type": "display_data"
    },
    {
     "data": {
      "application/vnd.jupyter.widget-view+json": {
       "model_id": "4f606a978df44a98874048638505858e",
       "version_major": 2,
       "version_minor": 0
      },
      "text/plain": [
       "[18:48:43.217] [Tedjdh] Iterating texts:   0%|          | 0/3778 [00:00<?, ?it/s]"
      ]
     },
     "metadata": {},
     "output_type": "display_data"
    },
    {
     "data": {
      "application/vnd.jupyter.widget-view+json": {
       "model_id": "5523714b0d6c498f9f2befa3c0850d22",
       "version_major": 2,
       "version_minor": 0
      },
      "text/plain": [
       "[19:18:15.940] Iterating CSV [/Users/ryan/intertxt/corpora/txtlab/metadata.csv]:   0%|          | 0/451 [00:00…"
      ]
     },
     "metadata": {},
     "output_type": "display_data"
    },
    {
     "data": {
      "application/vnd.jupyter.widget-view+json": {
       "model_id": "2d6750de2f674f34835e9bc41292e348",
       "version_major": 2,
       "version_minor": 0
      },
      "text/plain": [
       "[19:18:15.990] [Txtlab] Iterating texts:   0%|          | 0/450 [00:00<?, ?it/s]"
      ]
     },
     "metadata": {},
     "output_type": "display_data"
    }
   ],
   "source": [
    "for c in ['chadwyck','chicago','clmet']:\n",
    "    for i,t in enumerate(Corpus(c).texts(progress=True)):\n",
    "        dat = t.srp(n_dim=N_DIM)\n",
    "        if dat is not None and len(dat):\n",
    "            odx=safejson({'_key':t._key, '_addr':t.addr, 'n_dim':N_DIM, 'val':dat})\n",
    "            try:\n",
    "                sm.coll.insert(odx)\n",
    "            except DocumentInsertError:\n",
    "                sm.coll.update(odx)\n",
    "            # t.save()"
   ]
  },
  {
   "cell_type": "code",
   "execution_count": 7,
   "metadata": {},
   "outputs": [],
   "source": [
    "sm.coll.get(t._key)"
   ]
  },
  {
   "cell_type": "code",
   "execution_count": 12,
   "metadata": {},
   "outputs": [
    {
     "data": {
      "application/vnd.jupyter.widget-view+json": {
       "model_id": "e18e4d1b3336456582d53bae1367eb5f",
       "version_major": 2,
       "version_minor": 0
      },
      "text/plain": [
       "[18:34:34.859] [Chadwyck] Iterating texts:   0%|          | 0/2 [00:00<?, ?it/s]"
      ]
     },
     "metadata": {},
     "output_type": "display_data"
    }
   ],
   "source": [
    "from intertxt import Corpus\n",
    "for t in Corpus('chadwyck').texts(progress=True):\n",
    "    t.srp(num_dim=2, cache=True, force=True)"
   ]
  },
  {
   "cell_type": "code",
   "execution_count": 7,
   "metadata": {},
   "outputs": [
    {
     "data": {
      "text/plain": [
       "Fay, CRAYON SKETCHES (1833) [_chadwyck/Early_American_Fiction/faytheod.06] <3G1t5>"
      ]
     },
     "execution_count": 7,
     "metadata": {},
     "output_type": "execute_result"
    }
   ],
   "source": [
    "t = Corpus('chadwyck').t\n",
    "t"
   ]
  },
  {
   "cell_type": "code",
   "execution_count": 8,
   "metadata": {},
   "outputs": [
    {
     "data": {
      "text/plain": [
       "array([-0.79244167,  0.60994774], dtype=float32)"
      ]
     },
     "execution_count": 8,
     "metadata": {},
     "output_type": "execute_result"
    }
   ],
   "source": [
    "array = t.srp(cache=True,force=True)\n",
    "array"
   ]
  },
  {
   "cell_type": "code",
   "execution_count": 9,
   "metadata": {},
   "outputs": [
    {
     "ename": "DocumentGetError",
     "evalue": "[HTTP 404][ERR 1570] AQL: no suitable geo index found for geo restriction on 'text' (while optimizing plan)",
     "output_type": "error",
     "traceback": [
      "\u001b[0;31m---------------------------------------------------------------------------\u001b[0m",
      "\u001b[0;31mDocumentGetError\u001b[0m                          Traceback (most recent call last)",
      "\u001b[1;32m/Users/ryan/github/intertxt/notebooks/textrels/dev_srp.ipynb Cell 7'\u001b[0m in \u001b[0;36m<cell line: 2>\u001b[0;34m()\u001b[0m\n\u001b[1;32m      <a href='vscode-notebook-cell:/Users/ryan/github/intertxt/notebooks/textrels/dev_srp.ipynb#ch0000029?line=0'>1</a>\u001b[0m \u001b[39mfrom\u001b[39;00m \u001b[39mintertxt\u001b[39;00m \u001b[39mimport\u001b[39;00m Textspace\n\u001b[0;32m----> <a href='vscode-notebook-cell:/Users/ryan/github/intertxt/notebooks/textrels/dev_srp.ipynb#ch0000029?line=1'>2</a>\u001b[0m Textspace()\u001b[39m.\u001b[39;49mcoll\u001b[39m.\u001b[39;49mfind_near(\u001b[39mfloat\u001b[39;49m(array[\u001b[39m0\u001b[39;49m]), \u001b[39mfloat\u001b[39;49m(array[\u001b[39m1\u001b[39;49m]))\n",
      "File \u001b[0;32m~/miniforge3/lib/python3.9/site-packages/arango/collection.py:776\u001b[0m, in \u001b[0;36mCollection.find_near\u001b[0;34m(self, latitude, longitude, limit)\u001b[0m\n\u001b[1;32m    <a href='file:///Users/ryan/miniforge3/lib/python3.9/site-packages/arango/collection.py?line=772'>773</a>\u001b[0m         \u001b[39mraise\u001b[39;00m DocumentGetError(resp, request)\n\u001b[1;32m    <a href='file:///Users/ryan/miniforge3/lib/python3.9/site-packages/arango/collection.py?line=773'>774</a>\u001b[0m     \u001b[39mreturn\u001b[39;00m Cursor(\u001b[39mself\u001b[39m\u001b[39m.\u001b[39m_conn, resp\u001b[39m.\u001b[39mbody)\n\u001b[0;32m--> <a href='file:///Users/ryan/miniforge3/lib/python3.9/site-packages/arango/collection.py?line=775'>776</a>\u001b[0m \u001b[39mreturn\u001b[39;00m \u001b[39mself\u001b[39;49m\u001b[39m.\u001b[39;49m_execute(request, response_handler)\n",
      "File \u001b[0;32m~/miniforge3/lib/python3.9/site-packages/arango/api.py:74\u001b[0m, in \u001b[0;36mApiGroup._execute\u001b[0;34m(self, request, response_handler)\u001b[0m\n\u001b[1;32m     <a href='file:///Users/ryan/miniforge3/lib/python3.9/site-packages/arango/api.py?line=62'>63</a>\u001b[0m \u001b[39mdef\u001b[39;00m \u001b[39m_execute\u001b[39m(\n\u001b[1;32m     <a href='file:///Users/ryan/miniforge3/lib/python3.9/site-packages/arango/api.py?line=63'>64</a>\u001b[0m     \u001b[39mself\u001b[39m, request: Request, response_handler: Callable[[Response], T]\n\u001b[1;32m     <a href='file:///Users/ryan/miniforge3/lib/python3.9/site-packages/arango/api.py?line=64'>65</a>\u001b[0m ) \u001b[39m-\u001b[39m\u001b[39m>\u001b[39m Result[T]:\n\u001b[1;32m     <a href='file:///Users/ryan/miniforge3/lib/python3.9/site-packages/arango/api.py?line=65'>66</a>\u001b[0m     \u001b[39m\"\"\"Execute an API.\u001b[39;00m\n\u001b[1;32m     <a href='file:///Users/ryan/miniforge3/lib/python3.9/site-packages/arango/api.py?line=66'>67</a>\u001b[0m \n\u001b[1;32m     <a href='file:///Users/ryan/miniforge3/lib/python3.9/site-packages/arango/api.py?line=67'>68</a>\u001b[0m \u001b[39m    :param request: HTTP request.\u001b[39;00m\n\u001b[0;32m   (...)\u001b[0m\n\u001b[1;32m     <a href='file:///Users/ryan/miniforge3/lib/python3.9/site-packages/arango/api.py?line=71'>72</a>\u001b[0m \u001b[39m    :return: API execution result.\u001b[39;00m\n\u001b[1;32m     <a href='file:///Users/ryan/miniforge3/lib/python3.9/site-packages/arango/api.py?line=72'>73</a>\u001b[0m \u001b[39m    \"\"\"\u001b[39;00m\n\u001b[0;32m---> <a href='file:///Users/ryan/miniforge3/lib/python3.9/site-packages/arango/api.py?line=73'>74</a>\u001b[0m     \u001b[39mreturn\u001b[39;00m \u001b[39mself\u001b[39;49m\u001b[39m.\u001b[39;49m_executor\u001b[39m.\u001b[39;49mexecute(request, response_handler)\n",
      "File \u001b[0;32m~/miniforge3/lib/python3.9/site-packages/arango/executor.py:65\u001b[0m, in \u001b[0;36mDefaultApiExecutor.execute\u001b[0;34m(self, request, response_handler)\u001b[0m\n\u001b[1;32m     <a href='file:///Users/ryan/miniforge3/lib/python3.9/site-packages/arango/executor.py?line=55'>56</a>\u001b[0m \u001b[39m\"\"\"Execute an API request and return the result.\u001b[39;00m\n\u001b[1;32m     <a href='file:///Users/ryan/miniforge3/lib/python3.9/site-packages/arango/executor.py?line=56'>57</a>\u001b[0m \n\u001b[1;32m     <a href='file:///Users/ryan/miniforge3/lib/python3.9/site-packages/arango/executor.py?line=57'>58</a>\u001b[0m \u001b[39m:param request: HTTP request.\u001b[39;00m\n\u001b[0;32m   (...)\u001b[0m\n\u001b[1;32m     <a href='file:///Users/ryan/miniforge3/lib/python3.9/site-packages/arango/executor.py?line=61'>62</a>\u001b[0m \u001b[39m:return: API execution result.\u001b[39;00m\n\u001b[1;32m     <a href='file:///Users/ryan/miniforge3/lib/python3.9/site-packages/arango/executor.py?line=62'>63</a>\u001b[0m \u001b[39m\"\"\"\u001b[39;00m\n\u001b[1;32m     <a href='file:///Users/ryan/miniforge3/lib/python3.9/site-packages/arango/executor.py?line=63'>64</a>\u001b[0m resp \u001b[39m=\u001b[39m \u001b[39mself\u001b[39m\u001b[39m.\u001b[39m_conn\u001b[39m.\u001b[39msend_request(request)\n\u001b[0;32m---> <a href='file:///Users/ryan/miniforge3/lib/python3.9/site-packages/arango/executor.py?line=64'>65</a>\u001b[0m \u001b[39mreturn\u001b[39;00m response_handler(resp)\n",
      "File \u001b[0;32m~/miniforge3/lib/python3.9/site-packages/arango/collection.py:773\u001b[0m, in \u001b[0;36mCollection.find_near.<locals>.response_handler\u001b[0;34m(resp)\u001b[0m\n\u001b[1;32m    <a href='file:///Users/ryan/miniforge3/lib/python3.9/site-packages/arango/collection.py?line=770'>771</a>\u001b[0m \u001b[39mdef\u001b[39;00m \u001b[39mresponse_handler\u001b[39m(resp: Response) \u001b[39m-\u001b[39m\u001b[39m>\u001b[39m Cursor:\n\u001b[1;32m    <a href='file:///Users/ryan/miniforge3/lib/python3.9/site-packages/arango/collection.py?line=771'>772</a>\u001b[0m     \u001b[39mif\u001b[39;00m \u001b[39mnot\u001b[39;00m resp\u001b[39m.\u001b[39mis_success:\n\u001b[0;32m--> <a href='file:///Users/ryan/miniforge3/lib/python3.9/site-packages/arango/collection.py?line=772'>773</a>\u001b[0m         \u001b[39mraise\u001b[39;00m DocumentGetError(resp, request)\n\u001b[1;32m    <a href='file:///Users/ryan/miniforge3/lib/python3.9/site-packages/arango/collection.py?line=773'>774</a>\u001b[0m     \u001b[39mreturn\u001b[39;00m Cursor(\u001b[39mself\u001b[39m\u001b[39m.\u001b[39m_conn, resp\u001b[39m.\u001b[39mbody)\n",
      "\u001b[0;31mDocumentGetError\u001b[0m: [HTTP 404][ERR 1570] AQL: no suitable geo index found for geo restriction on 'text' (while optimizing plan)"
     ]
    }
   ],
   "source": [
    "from intertxt import Textspace\n",
    "Textspace().coll.find_near(float(array[0]), float(array[1]))"
   ]
  },
  {
   "cell_type": "code",
   "execution_count": null,
   "metadata": {},
   "outputs": [],
   "source": []
  },
  {
   "cell_type": "code",
   "execution_count": null,
   "metadata": {},
   "outputs": [],
   "source": []
  },
  {
   "cell_type": "code",
   "execution_count": null,
   "metadata": {},
   "outputs": [],
   "source": []
  },
  {
   "cell_type": "code",
   "execution_count": null,
   "metadata": {},
   "outputs": [],
   "source": []
  },
  {
   "cell_type": "code",
   "execution_count": null,
   "metadata": {},
   "outputs": [],
   "source": []
  },
  {
   "cell_type": "code",
   "execution_count": null,
   "metadata": {},
   "outputs": [],
   "source": []
  },
  {
   "cell_type": "code",
   "execution_count": null,
   "metadata": {},
   "outputs": [],
   "source": [
    "mat = t.srp(n_dim=640, cache=False)\n",
    "mat\n"
   ]
  },
  {
   "cell_type": "code",
   "execution_count": null,
   "metadata": {},
   "outputs": [],
   "source": [
    "from sklearn.manifold import TSNE\n",
    "tsne = TSNE(n_components=2, random_state=0)"
   ]
  },
  {
   "cell_type": "code",
   "execution_count": null,
   "metadata": {},
   "outputs": [],
   "source": [
    "tsne.fit_transform(mat)"
   ]
  },
  {
   "cell_type": "code",
   "execution_count": null,
   "metadata": {},
   "outputs": [],
   "source": [
    "!pip install -U pip\n",
    "# # "
   ]
  },
  {
   "cell_type": "code",
   "execution_count": null,
   "metadata": {},
   "outputs": [],
   "source": []
  }
 ],
 "metadata": {
  "interpreter": {
   "hash": "99c3488a746bccd77b7949f8f419451e1c962da56ebbaaae6e4d2e6c8c07eaa0"
  },
  "kernelspec": {
   "display_name": "Python 3.9.7 ('base')",
   "language": "python",
   "name": "python3"
  },
  "language_info": {
   "codemirror_mode": {
    "name": "ipython",
    "version": 3
   },
   "file_extension": ".py",
   "mimetype": "text/x-python",
   "name": "python",
   "nbconvert_exporter": "python",
   "pygments_lexer": "ipython3",
   "version": "3.9.7"
  },
  "orig_nbformat": 4
 },
 "nbformat": 4,
 "nbformat_minor": 2
}
