{
 "cells": [
  {
   "cell_type": "code",
   "execution_count": 1,
   "metadata": {},
   "outputs": [],
   "source": [
    "import sys; sys.path.insert(0,'../..'); sys.path.insert(0,'/Users/ryan/github/pySRP')\n",
    "from totality import *\n",
    "log.off()\n",
    "N_DIM=640"
   ]
  },
  {
   "cell_type": "code",
   "execution_count": 2,
   "metadata": {},
   "outputs": [
    {
     "data": {
      "text/plain": [
       "Windling, THE WOOD WIFE (1996) [_markmark/Windling,_Terri.The_Wood_Wife] <rI2pi>"
      ]
     },
     "execution_count": 2,
     "metadata": {},
     "output_type": "execute_result"
    }
   ],
   "source": [
    "import SRP\n",
    "fn='/Users/ryan/etc/hathi/eng_1980_or_after.bin'\n",
    "sm=SRPModel()\n",
    "key=next(sm.coll.keys())\n",
    "# austen = Text.find(author=\"Jane Austen\")\n",
    "texts = [t for t in Text.find(_corpus='markmark') if 2000>t.year>1980] #1900<t.year<1922]\n",
    "t=random.choice(texts)\n",
    "t"
   ]
  },
  {
   "cell_type": "code",
   "execution_count": 3,
   "metadata": {},
   "outputs": [],
   "source": [
    "from fastdist.fastdist import cosine"
   ]
  },
  {
   "cell_type": "code",
   "execution_count": 16,
   "metadata": {},
   "outputs": [],
   "source": [
    "def iter_vec_fn(fn):\n",
    "    with SRP.Vector_file(fn,precision = \"half\") as f:\n",
    "        yield from f"
   ]
  },
  {
   "cell_type": "code",
   "execution_count": 20,
   "metadata": {},
   "outputs": [],
   "source": [
    "from scipy.spatial.distance import cosine\n",
    "# cosine??"
   ]
  },
  {
   "cell_type": "code",
   "execution_count": 21,
   "metadata": {},
   "outputs": [],
   "source": [
    "def find_similar_texts(self,num_neighbs=10):\n",
    "    vec = self.srp(n_dim=N_DIM)\n",
    "    neighbs=[]\n",
    "    for i,(key,vector) in enumerate(iter_vec_fn(fn)):\n",
    "        if not i%100000: print(i)\n",
    "        if key and vector is not None and len(vector):\n",
    "            cdist = 1 - cosine(vec,vector)\n",
    "            if cdist==1 or not safebool(cdist): continue\n",
    "            if len(neighbs)<num_neighbs or cdist < neighbs[-1][0]:\n",
    "                neighbs.append((cdist,key))\n",
    "                neighbs.sort()\n",
    "                neighbs = neighbs[:num_neighbs]\n",
    "    return neighbs"
   ]
  },
  {
   "cell_type": "code",
   "execution_count": 22,
   "metadata": {},
   "outputs": [
    {
     "name": "stdout",
     "output_type": "stream",
     "text": [
      "0\n"
     ]
    },
    {
     "name": "stderr",
     "output_type": "stream",
     "text": [
      "/Users/ryan/miniforge3/lib/python3.9/site-packages/scipy/spatial/distance.py:698: RuntimeWarning: overflow encountered in square\n",
      "  vv = np.average(np.square(v), weights=w)\n"
     ]
    },
    {
     "name": "stdout",
     "output_type": "stream",
     "text": [
      "100000\n",
      "200000\n"
     ]
    }
   ],
   "source": [
    "neighbs = find_similar_texts(t)"
   ]
  },
  {
   "cell_type": "code",
   "execution_count": 49,
   "metadata": {},
   "outputs": [
    {
     "data": {
      "text/plain": [
       "[(0.8518094218729039, 'uc1.32106016550136'),\n",
       " (0.8550904428464945, 'uiug.30112109670965'),\n",
       " (0.8612106233285781, 'uc1.b4322474'),\n",
       " (0.8615358370778382, 'uc1.b3026378'),\n",
       " (0.863714865079766, 'uc1.31822003381555'),\n",
       " (0.8644794441359362, 'b427068'),\n",
       " (0.8654800654204464, 'uc1.31822010687390'),\n",
       " (0.8658425086971551, 'uc1.b3481559'),\n",
       " (0.8661637671401884, 'mdp.39015032390216'),\n",
       " (0.8672888041062259, 'uc1.32106020951312')]"
      ]
     },
     "execution_count": 49,
     "metadata": {},
     "output_type": "execute_result"
    }
   ],
   "source": [
    "neighbs"
   ]
  },
  {
   "cell_type": "code",
   "execution_count": null,
   "metadata": {},
   "outputs": [],
   "source": []
  },
  {
   "cell_type": "code",
   "execution_count": 33,
   "metadata": {},
   "outputs": [
    {
     "data": {
      "text/plain": [
       "22"
      ]
     },
     "execution_count": 33,
     "metadata": {},
     "output_type": "execute_result"
    }
   ],
   "source": [
    "ord(b'\\x16')"
   ]
  },
  {
   "cell_type": "code",
   "execution_count": 36,
   "metadata": {},
   "outputs": [],
   "source": [
    "buffer=[b'\\xcb', b'\\x94', b']', b'(', b'\\xc7', b'p', b'R', b'a', b'\\xd6', b'\\xc0', b'K', b'\\xbc', b'[', b'\\x90', b'\\xd6', b'\\xf6', b'V', b')', b'\\xd0', b'\\xee', b'R', b'<', b'V', b'c', b'\\xd1', b'}', b'\\xd6', b'#', b'X', b'\\xa0', b'U', b'\\xaf', b'\\xd3', b'j', b'\\xd2', b'\\xbe', b'J', b'\\xc6', b'\\xcd', b'.', b'T', b'\\xc8', b'N', b'.', b'Z', b'*', b'\\xca', b'\\xf6', b'X', b'\\xd8', b'P', b'\\x06', b'\\xcd', b'B', b'\\xd5', b'\\xc2', b'\\xd6', b'\\xed', b'U', b'c', b'o', b'o', b'.', b'3', b'1', b'9', b'2', b'4', b'0', b'5', b'4', b'0', b'3', b'9', b'7', b'5', b'9']\n",
    "rbuffer=list(reversed(buffer))\n",
    "# rbuffer"
   ]
  },
  {
   "cell_type": "code",
   "execution_count": 37,
   "metadata": {},
   "outputs": [],
   "source": []
  },
  {
   "cell_type": "code",
   "execution_count": 41,
   "metadata": {},
   "outputs": [
    {
     "data": {
      "text/plain": [
       "[(b'9', True),\n",
       " (b'5', True),\n",
       " (b'7', True),\n",
       " (b'9', True),\n",
       " (b'3', True),\n",
       " (b'0', True),\n",
       " (b'4', True),\n",
       " (b'5', True),\n",
       " (b'0', True),\n",
       " (b'4', True),\n",
       " (b'2', True),\n",
       " (b'9', True),\n",
       " (b'1', True),\n",
       " (b'3', True),\n",
       " (b'.', True),\n",
       " (b'o', True),\n",
       " (b'o', True),\n",
       " (b'c', True),\n",
       " (b'U', True),\n",
       " (b'\\xed', False),\n",
       " (b'\\xd6', False),\n",
       " (b'\\xc2', False),\n",
       " (b'\\xd5', False),\n",
       " (b'B', True),\n",
       " (b'\\xcd', False),\n",
       " (b'\\x06', True),\n",
       " (b'P', True),\n",
       " (b'\\xd8', False),\n",
       " (b'X', True),\n",
       " (b'\\xf6', False),\n",
       " (b'\\xca', False),\n",
       " (b'*', True),\n",
       " (b'Z', True),\n",
       " (b'.', True),\n",
       " (b'N', True),\n",
       " (b'\\xc8', False),\n",
       " (b'T', True),\n",
       " (b'.', True),\n",
       " (b'\\xcd', False),\n",
       " (b'\\xc6', False),\n",
       " (b'J', True),\n",
       " (b'\\xbe', False),\n",
       " (b'\\xd2', False),\n",
       " (b'j', True),\n",
       " (b'\\xd3', False),\n",
       " (b'\\xaf', False),\n",
       " (b'U', True),\n",
       " (b'\\xa0', False),\n",
       " (b'X', True),\n",
       " (b'#', True),\n",
       " (b'\\xd6', False),\n",
       " (b'}', True),\n",
       " (b'\\xd1', False),\n",
       " (b'c', True),\n",
       " (b'V', True),\n",
       " (b'<', True),\n",
       " (b'R', True),\n",
       " (b'\\xee', False),\n",
       " (b'\\xd0', False),\n",
       " (b')', True),\n",
       " (b'V', True),\n",
       " (b'\\xf6', False),\n",
       " (b'\\xd6', False),\n",
       " (b'\\x90', False),\n",
       " (b'[', True),\n",
       " (b'\\xbc', False),\n",
       " (b'K', True),\n",
       " (b'\\xc0', False),\n",
       " (b'\\xd6', False),\n",
       " (b'a', True),\n",
       " (b'R', True),\n",
       " (b'p', True),\n",
       " (b'\\xc7', False),\n",
       " (b'(', True),\n",
       " (b']', True),\n",
       " (b'\\x94', False),\n",
       " (b'\\xcb', False)]"
      ]
     },
     "execution_count": 41,
     "metadata": {},
     "output_type": "execute_result"
    }
   ],
   "source": [
    "[(x,is_ascii(x)) for x in rbuffer]"
   ]
  },
  {
   "cell_type": "code",
   "execution_count": null,
   "metadata": {},
   "outputs": [],
   "source": []
  }
 ],
 "metadata": {
  "interpreter": {
   "hash": "99c3488a746bccd77b7949f8f419451e1c962da56ebbaaae6e4d2e6c8c07eaa0"
  },
  "kernelspec": {
   "display_name": "Python 3.9.7 ('base')",
   "language": "python",
   "name": "python3"
  },
  "language_info": {
   "codemirror_mode": {
    "name": "ipython",
    "version": 3
   },
   "file_extension": ".py",
   "mimetype": "text/x-python",
   "name": "python",
   "nbconvert_exporter": "python",
   "pygments_lexer": "ipython3",
   "version": "3.9.7"
  },
  "orig_nbformat": 4
 },
 "nbformat": 4,
 "nbformat_minor": 2
}
